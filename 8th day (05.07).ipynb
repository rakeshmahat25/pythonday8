{
 "cells": [
  {
   "cell_type": "markdown",
   "id": "74950dac",
   "metadata": {},
   "source": [
    "# while "
   ]
  },
  {
   "cell_type": "code",
   "execution_count": 1,
   "id": "74aa6fbe",
   "metadata": {},
   "outputs": [],
   "source": [
    "#while loop in python "
   ]
  },
  {
   "cell_type": "code",
   "execution_count": 2,
   "id": "b17b7b2d",
   "metadata": {},
   "outputs": [
    {
     "name": "stdout",
     "output_type": "stream",
     "text": [
      "a= 1\n",
      "a= 2\n",
      "a= 3\n",
      "a= 4\n",
      "a= 5\n",
      "a= 6\n",
      "a= 7\n",
      "a= 8\n",
      "a= 9\n",
      "a= 10\n"
     ]
    }
   ],
   "source": [
    "a = 1\n",
    "while a<=10:\n",
    "    print(\"a=\",a)\n",
    "    a = a+1"
   ]
  },
  {
   "cell_type": "code",
   "execution_count": 3,
   "id": "42fedb64",
   "metadata": {},
   "outputs": [],
   "source": [
    "vegetables =[\"Brinjal\",\"Cauliflower\",\"Cabbage\",\"Radish\"]"
   ]
  },
  {
   "cell_type": "code",
   "execution_count": 4,
   "id": "5398f3b3",
   "metadata": {},
   "outputs": [
    {
     "name": "stdout",
     "output_type": "stream",
     "text": [
      "4\n",
      "['Brinjal', 'Cauliflower', 'Cabbage', 'Radish']\n",
      "Popping: Radish\n",
      "['Brinjal', 'Cauliflower', 'Cabbage']\n",
      "\n",
      "\n",
      "3\n",
      "['Brinjal', 'Cauliflower', 'Cabbage']\n",
      "Popping: Cabbage\n",
      "['Brinjal', 'Cauliflower']\n",
      "\n",
      "\n",
      "2\n",
      "['Brinjal', 'Cauliflower']\n",
      "Popping: Cauliflower\n",
      "['Brinjal']\n",
      "\n",
      "\n",
      "1\n",
      "['Brinjal']\n",
      "Popping: Brinjal\n",
      "[]\n",
      "\n",
      "\n"
     ]
    }
   ],
   "source": [
    "while len(vegetables)>0:\n",
    "    print(len(vegetables))\n",
    "    print(vegetables)\n",
    "    print(\"Popping:\",vegetables.pop())\n",
    "    print(vegetables)\n",
    "    print(\"\\n\")"
   ]
  },
  {
   "cell_type": "code",
   "execution_count": 5,
   "id": "80801542",
   "metadata": {},
   "outputs": [],
   "source": [
    "# using for loop  and while loop print the sum of the number in the list\n"
   ]
  },
  {
   "cell_type": "code",
   "execution_count": 6,
   "id": "e8ebb7a1",
   "metadata": {},
   "outputs": [],
   "source": [
    "list1 = [1,2,3,4,5,6,7,8,9,10]"
   ]
  },
  {
   "cell_type": "code",
   "execution_count": 11,
   "id": "6563a188",
   "metadata": {},
   "outputs": [
    {
     "name": "stdout",
     "output_type": "stream",
     "text": [
      "55\n"
     ]
    }
   ],
   "source": [
    "j=0\n",
    "for i in list1:\n",
    "    j=i+j\n",
    "print(j)\n",
    "    "
   ]
  },
  {
   "cell_type": "code",
   "execution_count": 13,
   "id": "d4cc3e49",
   "metadata": {},
   "outputs": [
    {
     "name": "stdout",
     "output_type": "stream",
     "text": [
      "55\n"
     ]
    }
   ],
   "source": [
    "i = 0\n",
    "total = 0\n",
    "while i<len(list1):\n",
    "    total += list1[i]\n",
    "    i +=1\n",
    "print(total)"
   ]
  },
  {
   "cell_type": "code",
   "execution_count": 15,
   "id": "b4439aea",
   "metadata": {},
   "outputs": [
    {
     "data": {
      "text/plain": [
       "[1, 2, 3, 4, 5, 6, 7, 8, 9, 10]"
      ]
     },
     "execution_count": 15,
     "metadata": {},
     "output_type": "execute_result"
    }
   ],
   "source": [
    "nums =list(range(1,11))\n",
    "nums"
   ]
  },
  {
   "cell_type": "code",
   "execution_count": 16,
   "id": "a1ce6b8c",
   "metadata": {},
   "outputs": [],
   "source": [
    "# for a list of number form 1 to 2o, print only the even numbers"
   ]
  },
  {
   "cell_type": "code",
   "execution_count": 17,
   "id": "e8ef3e82",
   "metadata": {},
   "outputs": [],
   "source": []
  },
  {
   "cell_type": "code",
   "execution_count": 34,
   "id": "6184a3d1",
   "metadata": {},
   "outputs": [
    {
     "name": "stdout",
     "output_type": "stream",
     "text": [
      "2\n",
      "4\n",
      "6\n",
      "8\n",
      "10\n",
      "12\n",
      "14\n",
      "16\n",
      "18\n",
      "20\n"
     ]
    }
   ],
   "source": [
    "list2 =list(range(1,21))\n",
    "for i in list2:\n",
    "    if i%2==0:\n",
    "        print(i)\n",
    "    \n",
    "        \n",
    "    "
   ]
  },
  {
   "cell_type": "code",
   "execution_count": 28,
   "id": "1734a402",
   "metadata": {},
   "outputs": [
    {
     "name": "stdout",
     "output_type": "stream",
     "text": [
      "1\n",
      "2\n",
      "3\n",
      "4\n",
      "5\n",
      "6\n",
      "7\n",
      "8\n",
      "9\n",
      "10\n",
      "11\n",
      "12\n",
      "13\n",
      "14\n",
      "15\n",
      "16\n",
      "17\n",
      "18\n",
      "19\n",
      "20\n"
     ]
    }
   ],
   "source": [
    "list2 =list(range(1,21))\n",
    "for num in list2:\n",
    "    \n",
    "    print(num)\n",
    "    "
   ]
  },
  {
   "cell_type": "code",
   "execution_count": 29,
   "id": "a14122a3",
   "metadata": {},
   "outputs": [],
   "source": [
    "weather  = \"raining\"\n"
   ]
  },
  {
   "cell_type": "code",
   "execution_count": 32,
   "id": "4dfb1389",
   "metadata": {},
   "outputs": [
    {
     "name": "stdout",
     "output_type": "stream",
     "text": [
      "Enter the price of samosa44\n",
      "Buy 7 samosa\n"
     ]
    }
   ],
   "source": [
    "price =int(input(\"Enter the price of samosa\"))\n",
    "if price<=30:\n",
    "    print(\"Buy 10 samosa\")\n",
    "elif (price>30 and price <=45):\n",
    "    print(\"Buy 7 samosa\")\n",
    "elif (price>45 and price <=50):\n",
    "    print(\"Buy 4 samosa\")\n",
    "else:\n",
    "    print(\"Don't buy samaso\")\n",
    "    "
   ]
  },
  {
   "cell_type": "code",
   "execution_count": 35,
   "id": "23b84b2d",
   "metadata": {},
   "outputs": [
    {
     "name": "stdout",
     "output_type": "stream",
     "text": [
      "2\n",
      "4\n",
      "6\n",
      "8\n",
      "10\n",
      "12\n",
      "14\n",
      "16\n",
      "18\n",
      "20\n",
      "Only the Even Number\n"
     ]
    }
   ],
   "source": [
    "list1=list(range(1,21))\n",
    "for i in list1:\n",
    "    if(i%2==0):\n",
    "        print(i)\n",
    "print(\"Only the Even Number\")"
   ]
  },
  {
   "cell_type": "code",
   "execution_count": 3,
   "id": "d72a9097",
   "metadata": {},
   "outputs": [
    {
     "name": "stdout",
     "output_type": "stream",
     "text": [
      "Total sum of Even number 110\n"
     ]
    }
   ],
   "source": [
    "list3=list(range(1,21))\n",
    "sum1 = 0\n",
    "for i in list3:\n",
    "    if(i%2==0):\n",
    "        sum1 +=i  \n",
    "print(\"Total sum of Even number\",sum1)"
   ]
  },
  {
   "cell_type": "code",
   "execution_count": 53,
   "id": "bee981ca",
   "metadata": {},
   "outputs": [],
   "source": [
    "# Find sum of all the even numbers from 1 to 21."
   ]
  },
  {
   "cell_type": "code",
   "execution_count": null,
   "id": "be41c716",
   "metadata": {},
   "outputs": [],
   "source": [
    "# Find sum of all the even numbers and all the odd numbers from 1 to 21.\n"
   ]
  },
  {
   "cell_type": "code",
   "execution_count": 4,
   "id": "b5ec479c",
   "metadata": {},
   "outputs": [
    {
     "name": "stdout",
     "output_type": "stream",
     "text": [
      "Total sum of Odd number 100\n"
     ]
    }
   ],
   "source": [
    "list3=list(range(1,21))\n",
    "sum1 = 0\n",
    "for i in list3:\n",
    "    if(i%2!=0):\n",
    "        sum1 +=i  \n",
    "print(\"Total sum of Odd number\",sum1)"
   ]
  },
  {
   "cell_type": "code",
   "execution_count": 5,
   "id": "ed65ea5a",
   "metadata": {},
   "outputs": [
    {
     "name": "stdout",
     "output_type": "stream",
     "text": [
      "Total sum of Even number 110\n",
      "Total sum of Odd number 100\n"
     ]
    }
   ],
   "source": [
    "list3=list(range(1,21))\n",
    "sum1 = 0\n",
    "sum2 = 0\n",
    "for i in list3:\n",
    "    if(i%2==0):\n",
    "        sum1 +=i \n",
    "    else:\n",
    "        sum2 +=i \n",
    "print(\"Total sum of Even number\",sum1)\n",
    "print(\"Total sum of Odd number\",sum2)"
   ]
  },
  {
   "cell_type": "code",
   "execution_count": 2,
   "id": "1e6c9072",
   "metadata": {},
   "outputs": [
    {
     "name": "stdout",
     "output_type": "stream",
     "text": [
      "600\n"
     ]
    }
   ],
   "source": [
    "list4 = list(range(2,50))\n",
    "total2=0\n",
    "for i in list4:\n",
    "    if i%2==0:\n",
    "        total2 +=i\n",
    "print(total2)   "
   ]
  },
  {
   "cell_type": "code",
   "execution_count": null,
   "id": "0d41d318",
   "metadata": {},
   "outputs": [],
   "source": []
  }
 ],
 "metadata": {
  "kernelspec": {
   "display_name": "Python 3 (ipykernel)",
   "language": "python",
   "name": "python3"
  },
  "language_info": {
   "codemirror_mode": {
    "name": "ipython",
    "version": 3
   },
   "file_extension": ".py",
   "mimetype": "text/x-python",
   "name": "python",
   "nbconvert_exporter": "python",
   "pygments_lexer": "ipython3",
   "version": "3.9.7"
  }
 },
 "nbformat": 4,
 "nbformat_minor": 5
}
